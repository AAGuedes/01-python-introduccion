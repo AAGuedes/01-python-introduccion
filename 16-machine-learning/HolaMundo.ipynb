{
 "cells": [
  {
   "cell_type": "code",
   "execution_count": null,
   "metadata": {},
   "outputs": [],
   "source": [
    "import pandas as p\n",
    "df = p.read_csv(\"vg.csv\")\n",
    "df.values\n",
    "df.shape\n",
    "df.describe()"
   ]
  }
 ],
 "metadata": {
  "language_info": {
   "name": "python"
  }
 },
 "nbformat": 4,
 "nbformat_minor": 5
}
