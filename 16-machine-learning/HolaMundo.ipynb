{
 "cells": [
  {
   "cell_type": "code",
   "execution_count": null,
   "metadata": {},
   "outputs": [],
   "source": [
    "# Declarando herramientas y datos\n",
    "import pandas as p\n",
    "data_juegos = p.read_csv(\"juegos-ml.csv\")\n",
    "\n",
    "# Eliminamos la columna juegos\n",
    "X = data_juegos.drop(columns=[\"juegos\"])\n",
    "y = data_juegos[\"juegos\"]\n",
    "y"
   ]
  }
 ],
 "metadata": {
  "language_info": {
   "name": "python"
  }
 },
 "nbformat": 4,
 "nbformat_minor": 5
}
