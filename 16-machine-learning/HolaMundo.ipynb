{
 "cells": [
  {
   "cell_type": "code",
   "execution_count": null,
   "metadata": {},
   "outputs": [],
   "source": [
    "# Pandas y Data\n",
    "import pandas as p\n",
    "data_juegos = p.read_csv(\"juegos-ml.csv\")\n",
    "\n",
    "X = data_juegos.drop(columns=[\"juegos\"])\n",
    "y = data_juegos[\"juegos\"]\n",
    "data_juegos"
   ]
  },
  {
   "cell_type": "markdown",
   "metadata": {},
   "source": [
    "# Modelo Decision Tree\n",
    "from sklearn.tree import DecisionTreeClassifier\n",
    "modelo = DecisionTreeClassifier()\n",
    "modelo.fit(X.values, y)\n",
    "predicciones = modelo.predict([[14, 0], [29, 0], [30, 0]])\n",
    "predicciones"
   ]
  }
 ],
 "metadata": {
  "language_info": {
   "name": "python"
  }
 },
 "nbformat": 4,
 "nbformat_minor": 5
}
